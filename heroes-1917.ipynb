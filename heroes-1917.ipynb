{
 "cells": [
  {
   "cell_type": "markdown",
   "metadata": {},
   "source": [
    "# Извлечение текстовых данных с сайта project1917\n",
    "\n",
    "Для сохранения данных о выдающихся людях, описавших в своих дневниках и других документах события 1917 г., необходимо получить ссылки на персональные коллекции записей. Они собраны в разделе [heroes](https://project1917.ru/heroes). Для удобства сохраним этот ресурс на локальный жесткий диск как `heroes.html`. Это можно сделать средствами языка `Python`, но проще задействовать браузер (\"Сохранить страницу как ...\") или консольную команду: \n",
    "\n",
    "```bash\n",
    "wget https://project1917.ru/heroes -O heroes.html\n",
    "```\n",
    "\n",
    "Ресурс занимаен более 1 Мб файлового пространства. Нам нужны из него только ссылки на персональные страницы. Воспользуемся для их извлечения библиотекой [Beautiful Soup](http://www.crummy.com/software/BeautifulSoup). "
   ]
  },
  {
   "cell_type": "code",
   "execution_count": 19,
   "metadata": {},
   "outputs": [
    {
     "name": "stdout",
     "output_type": "stream",
     "text": [
      "done\n"
     ]
    }
   ],
   "source": [
    "from bs4 import BeautifulSoup\n",
    "\n",
    "with open(\"heroes.html\") as fr:\n",
    "    soup = BeautifulSoup(fr)\n",
    "    tags = soup.find_all('a', class_=\"footnote-popup--hero\")\n",
    "    with open(\"heroes.txt\", \"w+\") as fw: # Сохраняем ссылки в текстовый файл.\n",
    "        for tag in tags:\n",
    "            href = tag['href']\n",
    "            if href: fw.write(\"{}{}\\r\\n\".format('https://project1917.ru', href))\n",
    "        print('done')\n"
   ]
  },
  {
   "cell_type": "markdown",
   "metadata": {},
   "source": [
    "Теперь необходимо сохранить каждый ресурс в текстовой файл. При этом нужно ихбавиться от html-разметки. Превратить веб-страницу в простой текстовый документ можно с помощью библиотеки `html2text`:"
   ]
  },
  {
   "cell_type": "code",
   "execution_count": 27,
   "metadata": {},
   "outputs": [],
   "source": [
    "#import html2text\n",
    "#import urllib.request as request\n",
    "\n",
    "#h2t = html2text.HTML2Text()\n",
    "#h2t.ignore_links = True\n",
    "\n",
    "with open(\"heroes.txt\") as fr: # Сохраняем ссылки в текстовый файл.\n",
    "    hrefs = fr.readlines()\n",
    "    for href in hrefs:\n",
    "        url = href.strip()\n",
    "        \n"
   ]
  },
  {
   "cell_type": "code",
   "execution_count": null,
   "metadata": {},
   "outputs": [],
   "source": []
  }
 ],
 "metadata": {
  "kernelspec": {
   "display_name": "Python 3",
   "language": "python",
   "name": "python3"
  },
  "language_info": {
   "codemirror_mode": {
    "name": "ipython",
    "version": 3
   },
   "file_extension": ".py",
   "mimetype": "text/x-python",
   "name": "python",
   "nbconvert_exporter": "python",
   "pygments_lexer": "ipython3",
   "version": "3.5.3"
  }
 },
 "nbformat": 4,
 "nbformat_minor": 4
}
